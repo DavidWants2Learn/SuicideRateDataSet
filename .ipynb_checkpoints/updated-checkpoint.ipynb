{
 "cells": [
  {
   "cell_type": "code",
   "execution_count": null,
   "metadata": {},
   "outputs": [],
   "source": [
    "import pandas as pd\n",
    "import sklearn"
   ]
  },
  {
   "cell_type": "code",
   "execution_count": null,
   "metadata": {},
   "outputs": [],
   "source": [
    "df = pd.read_csv('master.csv')\n",
    "df.head(10)"
   ]
  },
  {
   "cell_type": "code",
   "execution_count": null,
   "metadata": {
    "scrolled": false
   },
   "outputs": [],
   "source": [
    "#Quantize columns\n",
    "df['country'] = df['country'].astype('category').cat.codes\n",
    "df['age'] = df['age'].astype('category').cat.codes\n",
    "df['year'] = df['year'].astype('category').cat.codes\n",
    "df['generation'] = df['generation'].astype('category').cat.codes\n",
    "df['sex'] = df['sex'].astype('category').cat.codes\n",
    "\n",
    "#Convert string to int\n",
    "df['gdp_for_year ($)'] = df['gdp_for_year ($)'].astype('int32')\n",
    "\n",
    "#Store actual suicide rates into own table\n",
    "actual_Suicide_rates = df['suicides/100k pop'].values\n",
    "print(actual_Suicide_rates)\n",
    "\n",
    "#drop unecessary columns\n",
    "df = df.drop(columns=['country-year', 'HDI for year', 'suicides_no', 'suicides/100k pop'])\n",
    "\n",
    "#print\n",
    "df.head()"
   ]
  },
  {
   "cell_type": "code",
   "execution_count": null,
   "metadata": {},
   "outputs": [],
   "source": [
    "from sklearn.model_selection import train_test_split\n",
    "\n",
    "x_raw = df.values\n",
    "\n",
    "x_train, x_test, y_train, y_test = train_test_split(x_raw, actual_Suicide_rates, test_size=0.2, random_state=42)"
   ]
  },
  {
   "cell_type": "code",
   "execution_count": null,
   "metadata": {},
   "outputs": [],
   "source": [
    "import sklearn\n",
    "from sklearn.ensemble import RandomForestRegressor\n",
    "\n",
    "rfRegr = RandomForestRegressor(n_estimators=30, min_samples_leaf=2)\n",
    "rfRegr.fit(x_train, y_train)"
   ]
  },
  {
   "cell_type": "code",
   "execution_count": null,
   "metadata": {},
   "outputs": [],
   "source": []
  }
 ],
 "metadata": {
  "kernelspec": {
   "display_name": "Python 3",
   "language": "python",
   "name": "python3"
  }
 },
 "nbformat": 4,
 "nbformat_minor": 2
}
